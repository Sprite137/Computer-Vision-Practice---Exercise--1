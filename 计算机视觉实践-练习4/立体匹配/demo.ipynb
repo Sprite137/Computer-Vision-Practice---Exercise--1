{
 "cells": [
  {
   "cell_type": "code",
   "execution_count": null,
   "metadata": {},
   "outputs": [],
   "source": [
    "from PIL import Image\n",
    "from pylab import *\n",
    "import cv2\n",
    "from numpy import *\n",
    "from numpy.ma import array\n",
    "from scipy.ndimage import filters\n",
    "from PIL import Image "
   ]
  },
  {
   "cell_type": "code",
   "execution_count": null,
   "metadata": {},
   "outputs": [],
   "source": [
    "\"\"\" 使用归一化的互相关计算视差图像 \"\"\"\n",
    "\n",
    "def plane_sweep_ncc(im_l,im_r,start,steps,wid):\n",
    "    m,n = im_l.shape\n",
    "    mean_l = zeros((m,n))\n",
    "    mean_r = zeros((m,n))\n",
    "    s = zeros((m,n))\n",
    "    s_l = zeros((m,n))\n",
    "    s_r = zeros((m,n))\n",
    "    dmaps = zeros((m,n,steps))      # 保存深度平面的数组\n",
    "    filters.uniform_filter(im_l,wid,mean_l)     # 计算图像块的平均值\n",
    "    filters.uniform_filter(im_r,wid,mean_r)\n",
    "    norm_l = im_l - mean_l\n",
    "    norm_r = im_r - mean_r\n",
    "    \n",
    "    # 尝试不同的视差\n",
    "    for displ in range(steps):\n",
    "        filters.uniform_filter(np.roll(norm_l, -displ - start) * norm_r, wid, s)\n",
    "        filters.uniform_filter(np.roll(norm_l, -displ - start) * np.roll(norm_l, -displ - start), wid, s_l)\n",
    "        filters.uniform_filter(norm_r*norm_r,wid,s_r)\n",
    "        dmaps[:,:,displ] = s / sqrt(s_l * s_r)\n",
    "        \n",
    "    return np.argmax(dmaps, axis=2)     # 为每个像素选取最佳深度"
   ]
  },
  {
   "cell_type": "code",
   "execution_count": null,
   "metadata": {},
   "outputs": [],
   "source": [
    "#使用带有高斯加权周边的归一化互相关计算视差图像\n",
    "\n",
    "def plane_sweep_gauss(im_l,im_r,start,steps,wid):\n",
    "    m,n = im_l.shape\n",
    "    mean_l = zeros((m,n))\n",
    "    mean_r = zeros((m,n))\n",
    "    s = zeros((m,n))\n",
    "    s_l = zeros((m,n))\n",
    "    s_r = zeros((m,n))\n",
    "    dmaps = zeros((m,n,steps))\n",
    "    filters.gaussian_filter(im_l,wid,0,mean_l)\n",
    "    filters.gaussian_filter(im_r,wid,0,mean_r)\n",
    "    norm_l = im_l - mean_l\n",
    "    norm_r = im_r - mean_r\n",
    "    \n",
    "    # 尝试不同的视差\n",
    "    for displ in range(steps):\n",
    "        filters.gaussian_filter(np.roll(norm_l, -displ - start) * norm_r, wid, 0, s)\n",
    "        filters.gaussian_filter(np.roll(norm_l, -displ - start) * np.roll(norm_l, -displ - start), wid, 0, s_l)\n",
    "        filters.gaussian_filter(norm_r*norm_r,wid,0,s_r)\n",
    "        dmaps[:,:,displ] = s / np.sqrt(s_l * s_r)\n",
    "    \n",
    "    return np.argmax(dmaps, axis=2)     # 为每个像素选取最佳深度"
   ]
  },
  {
   "cell_type": "code",
   "execution_count": null,
   "metadata": {},
   "outputs": [],
   "source": [
    "im_l = array(Image.open('data/1.png').convert('L'), 'f')\n",
    "im_r = array(Image.open('data/2.png').convert('L'),'f')\n",
    "# 开始偏移，并设置步长\n",
    "steps = 12\n",
    "start = 4\n",
    "# ncc 的宽度\n",
    "wid = 2\n",
    "res = plane_sweep_gauss(im_l,im_r,start,steps,wid)\n",
    "\n",
    "\n",
    "\n",
    "#保存视差图\n",
    "outputImg = Image.fromarray(res*255.)\n",
    "outputImg = outputImg.convert('L')\n",
    "outputImg.save('depth14.jpg')  \n",
    "outputImg.show()\n",
    "\n"
   ]
  },
  {
   "cell_type": "code",
   "execution_count": null,
   "metadata": {},
   "outputs": [],
   "source": [
    "import matplotlib.pyplot as plt\n",
    "import cv2\n",
    "imageA = cv2.imread('data/1.png')\n",
    "imageB = cv2.imread('data/2.png')\n",
    "img = cv2.imread('depth6.jpg')\n",
    "plt.figure(figsize=(120, 120))\n",
    "plt.subplot(1,3,1,xticks = [],yticks=[])\n",
    "plt.title(\"left\",size=220)\n",
    "plt.imshow(imageA)\n",
    "plt.subplot(1,3,2,xticks = [],yticks=[])\n",
    "plt.title(\"right\",size=220)\n",
    "plt.imshow(imageB)\n",
    "plt.subplot(1,3,3,xticks = [],yticks=[])\n",
    "plt.title(\"depth(width:6)\",size=220)\n",
    "plt.imshow(img)\n",
    "plt.show()"
   ]
  }
 ],
 "metadata": {
  "kernelspec": {
   "display_name": "base",
   "language": "python",
   "name": "python3"
  },
  "language_info": {
   "codemirror_mode": {
    "name": "ipython",
    "version": 3
   },
   "file_extension": ".py",
   "mimetype": "text/x-python",
   "name": "python",
   "nbconvert_exporter": "python",
   "pygments_lexer": "ipython3",
   "version": "3.9.12"
  },
  "orig_nbformat": 4
 },
 "nbformat": 4,
 "nbformat_minor": 2
}
